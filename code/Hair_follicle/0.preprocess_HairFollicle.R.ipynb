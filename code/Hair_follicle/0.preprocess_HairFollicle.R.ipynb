{
 "cells": [
  {
   "cell_type": "markdown",
   "metadata": {},
   "source": [
    "This script describes how we processed the SHARE-seq data of the hair follicle development study, preparing them for training and downstream analysis."
   ]
  },
  {
   "cell_type": "markdown",
   "metadata": {},
   "source": [
    "**Note:**\n",
    "\n",
    "Before running the following scripts, download processed data of the hair follicle development study from the scglue package (http://download.gao-lab.org/GLUE/dataset/Ma-2020-RNA.h5ad and http://download.gao-lab.org/GLUE/dataset/Ma-2020-ATAC.h5ad), and convert the anndata files into \".h5seurat\" format following instructions from the tutorial (https://mojaveazure.github.io/seurat-disk/articles/convert-anndata.html)."
   ]
  },
  {
   "cell_type": "code",
   "execution_count": null,
   "metadata": {
    "scrolled": true
   },
   "outputs": [],
   "source": [
    "library(Matrix)\n",
    "library(Signac)\n",
    "library(Seurat)\n",
    "library(SeuratDisk)\n",
    "library(EnsDb.Mmusculus.v79)\n",
    "library(dplyr)\n",
    "library(ggplot2)\n",
    "#library(BSgenome.Hsapiens.UCSC.hg38)\n",
    "\n",
    "set.seed(42)\n",
    "setwd(\"/nfs/public/xixi/scRegulate/SHARE-seq\")"
   ]
  },
  {
   "cell_type": "code",
   "execution_count": null,
   "metadata": {},
   "outputs": [],
   "source": [
    "atac <- LoadH5Seurat(\"Ma-2020-ATAC.h5seurat\")\n",
    "atac"
   ]
  },
  {
   "cell_type": "code",
   "execution_count": null,
   "metadata": {
    "scrolled": true
   },
   "outputs": [],
   "source": [
    "rna <- LoadH5Seurat(\"Ma-2020-RNA.2.h5seurat\", meta.data = FALSE)\n",
    "rna"
   ]
  },
  {
   "cell_type": "code",
   "execution_count": null,
   "metadata": {},
   "outputs": [],
   "source": [
    "# Create Seurat object\n",
    "skin <- CreateSeuratObject(counts = rna@assays$RNA@counts)\n",
    "skin[[\"percent.mt\"]] <- PercentageFeatureSet(skin, pattern = \"^MT-\")"
   ]
  },
  {
   "cell_type": "code",
   "execution_count": null,
   "metadata": {
    "scrolled": true
   },
   "outputs": [],
   "source": [
    "# Now add in the ATAC-seq data\n",
    "# we'll only use peaks in standard chromosomes\n",
    "grange.counts <- StringToGRanges(rownames(atac), sep = c(\":\", \"-\"))\n",
    "grange.use <- seqnames(grange.counts) %in% standardChromosomes(grange.counts)\n",
    "atac_counts <- atac@assays$RNA@counts[as.vector(grange.use), ]\n",
    "annotations <- GetGRangesFromEnsDb(ensdb = EnsDb.Mmusculus.v79)\n",
    "seqlevelsStyle(annotations) <- 'UCSC'\n",
    "genome(annotations) <- \"mm10\"\n",
    "\n",
    "frag.file <- \"GSM4156597_skin.late.anagen.atac.fragments.bed.gz\"\n",
    "chrom_assay <- CreateChromatinAssay(\n",
    "   counts = atac_counts,\n",
    "   sep = c(\":\", \"-\"),\n",
    "   genome = 'mm10',\n",
    "   min.cells = 10,\n",
    "   annotation = annotations\n",
    " )\n",
    "skin[[\"ATAC\"]] <- chrom_assay"
   ]
  },
  {
   "cell_type": "code",
   "execution_count": null,
   "metadata": {},
   "outputs": [],
   "source": [
    "VlnPlot(skin, features = c(\"nCount_ATAC\", \"nCount_RNA\",\"percent.mt\"), ncol = 3,\n",
    "  log = TRUE, pt.size = 0) + NoLegend()"
   ]
  },
  {
   "cell_type": "code",
   "execution_count": null,
   "metadata": {},
   "outputs": [],
   "source": [
    "skin <- subset(\n",
    "  x = skin,\n",
    "  subset = nCount_ATAC < 3e4 &\n",
    "    nCount_ATAC > 500 &\n",
    "    nCount_RNA < 8000 &\n",
    "    nCount_RNA > 100 &\n",
    "    percent.mt < 20\n",
    ")\n",
    "skin"
   ]
  },
  {
   "cell_type": "code",
   "execution_count": null,
   "metadata": {},
   "outputs": [],
   "source": [
    "# RNA analysis\n",
    "DefaultAssay(skin) <- \"RNA\"\n",
    "\n",
    "skin <- FindVariableFeatures(skin, nfeatures = 3000)\n",
    "skin <- NormalizeData(skin)\n",
    "skin <- ScaleData(skin)"
   ]
  },
  {
   "cell_type": "code",
   "execution_count": null,
   "metadata": {
    "scrolled": true
   },
   "outputs": [],
   "source": [
    "skin <- RunPCA(skin)"
   ]
  },
  {
   "cell_type": "code",
   "execution_count": null,
   "metadata": {
    "scrolled": true
   },
   "outputs": [],
   "source": [
    "skin <- RunUMAP(skin, dims = 1:30, reduction.name = \"umap.rna\")\n",
    "skin <- FindNeighbors(skin, dims = 1:30)\n",
    "skin <- FindClusters(skin, resolution = 0.5, algorithm = 3)"
   ]
  },
  {
   "cell_type": "code",
   "execution_count": null,
   "metadata": {
    "scrolled": true
   },
   "outputs": [],
   "source": [
    "# ATAC analysis\n",
    "# We exclude the first dimension as this is typically correlated with sequencing depth\n",
    "DefaultAssay(skin) <- \"ATAC\"\n",
    "skin <- FindTopFeatures(skin, min.cutoff = 10)\n",
    "skin <- RunTFIDF(skin)\n",
    "skin <- RunSVD(skin)\n",
    "skin <- RunUMAP(skin, reduction = 'lsi', dims = 2:30, reduction.name = \"umap.atac\", reduction.key = \"atacUMAP_\")"
   ]
  },
  {
   "cell_type": "code",
   "execution_count": null,
   "metadata": {},
   "outputs": [],
   "source": [
    "skin <- FindNeighbors(skin, reduction = 'lsi', dims = 2:30)"
   ]
  },
  {
   "cell_type": "code",
   "execution_count": null,
   "metadata": {},
   "outputs": [],
   "source": [
    "skin <- FindClusters(skin, resolution = 1, algorithm = 3)"
   ]
  },
  {
   "cell_type": "code",
   "execution_count": null,
   "metadata": {
    "scrolled": true
   },
   "outputs": [],
   "source": [
    "skin <- FindMultiModalNeighbors(skin, reduction.list = list(\"pca\", \"lsi\"), dims.list = list(1:30, 2:30))\n",
    "skin <- RunUMAP(skin, nn.name = \"weighted.nn\", reduction.name = \"wnn.umap\", reduction.key = \"wnnUMAP_\")"
   ]
  },
  {
   "cell_type": "code",
   "execution_count": null,
   "metadata": {},
   "outputs": [],
   "source": [
    "skin <- FindClusters(skin, graph.name = \"wsnn\", resolution = 1.5)"
   ]
  },
  {
   "cell_type": "code",
   "execution_count": null,
   "metadata": {
    "scrolled": true
   },
   "outputs": [],
   "source": [
    "skin$celltype <- atac$cell_type"
   ]
  },
  {
   "cell_type": "code",
   "execution_count": null,
   "metadata": {},
   "outputs": [],
   "source": [
    "options(repr.plot.width=14, repr.plot.height=6)"
   ]
  },
  {
   "cell_type": "code",
   "execution_count": null,
   "metadata": {},
   "outputs": [],
   "source": [
    "p1 <- DimPlot(skin, reduction = \"umap.rna\", label = TRUE, label.size = 2.5, repel = TRUE) + ggtitle(\"RNA\")\n",
    "p2 <- DimPlot(skin, reduction = \"umap.atac\", label = TRUE, label.size = 2.5, repel = TRUE) + ggtitle(\"ATAC\")\n",
    "p3 <- DimPlot(skin, reduction = \"wnn.umap\", label = TRUE, label.size = 2.5, repel = TRUE) + ggtitle(\"WNN\")\n",
    "p1 + p2 + p3 & NoLegend() & theme(plot.title = element_text(hjust = 0.5))"
   ]
  },
  {
   "cell_type": "code",
   "execution_count": null,
   "metadata": {},
   "outputs": [],
   "source": [
    "p1 <- DimPlot(skin, reduction = \"umap.rna\", group.by = \"celltype\", label = TRUE, label.size = 2.5, repel = TRUE) + ggtitle(\"RNA\")\n",
    "p2 <- DimPlot(skin, reduction = \"umap.atac\", group.by = \"celltype\", label = TRUE, label.size = 2.5, repel = TRUE) + ggtitle(\"ATAC\")\n",
    "p3 <- DimPlot(skin, reduction = \"wnn.umap\", group.by = \"celltype\", label = TRUE, label.size = 2.5, repel = TRUE) + ggtitle(\"WNN\")\n",
    "p1 + p2 + p3 & NoLegend() & theme(plot.title = element_text(hjust = 0.5))"
   ]
  },
  {
   "cell_type": "code",
   "execution_count": null,
   "metadata": {},
   "outputs": [],
   "source": [
    "saveRDS(skin, \"skin.rna.atac.seuratobj.rds\")"
   ]
  },
  {
   "cell_type": "markdown",
   "metadata": {},
   "source": [
    "# Extract TAC, Medulla, and Hair Shaft-Cuticle/Cortex cells"
   ]
  },
  {
   "cell_type": "code",
   "execution_count": null,
   "metadata": {},
   "outputs": [],
   "source": [
    "skin <- readRDS(\"skin.rna.atac.seuratobj.rds\")\n",
    "skin"
   ]
  },
  {
   "cell_type": "code",
   "execution_count": null,
   "metadata": {},
   "outputs": [],
   "source": [
    "skin_realsub <- subset(skin, subset = seurat_clusters %in% c(4,7,8,10,17,22))\n",
    "#skin_realsub <- skin[,  skin$seurat_clusters %in% c(4,7,8,10,17,22)]"
   ]
  },
  {
   "cell_type": "code",
   "execution_count": null,
   "metadata": {
    "scrolled": true
   },
   "outputs": [],
   "source": [
    "DefaultAssay(skin_realsub) <- \"RNA\"\n",
    "\n",
    "skin_realsub <- RunUMAP(skin_realsub, dims = 1:30, reduction.name = \"umap.rna\")\n",
    "skin_realsub <- FindNeighbors(skin_realsub, dims = 1:30)\n",
    "#skin_sub <- FindClusters(skin_sub, resolution = 0.5, algorithm = 3)"
   ]
  },
  {
   "cell_type": "code",
   "execution_count": null,
   "metadata": {
    "scrolled": true
   },
   "outputs": [],
   "source": [
    "DefaultAssay(skin_realsub) <- 'ATAC'\n",
    "\n",
    "skin_realsub <- RunUMAP(skin_realsub, reduction = 'lsi', dims = 2:30, reduction.name = 'umap.atac')\n",
    "skin_realsub <- FindNeighbors(skin_realsub, reduction = 'lsi', dims = 2:30)"
   ]
  },
  {
   "cell_type": "code",
   "execution_count": null,
   "metadata": {},
   "outputs": [],
   "source": [
    "skin_realsub <- FindMultiModalNeighbors(skin_realsub, reduction.list = list(\"pca\", \"lsi\"), dims.list = list(1:30, 2:30))\n",
    "skin_realsub <- RunUMAP(skin_realsub, nn.name = \"weighted.nn\", reduction.name = \"wnn.umap\", reduction.key = \"wnnUMAP_\")"
   ]
  },
  {
   "cell_type": "code",
   "execution_count": null,
   "metadata": {},
   "outputs": [],
   "source": [
    "skin_realsub <- FindClusters(skin_realsub, graph.name = \"wsnn\", resolution = 0.7)"
   ]
  },
  {
   "cell_type": "code",
   "execution_count": null,
   "metadata": {},
   "outputs": [],
   "source": [
    "skin_realsub$celltype_reanno = 'NA'\n",
    "skin_realsub$celltype_reanno[skin_realsub$seurat_clusters==0 | skin_realsub$seurat_clusters==3 | \n",
    "                             skin_realsub$seurat_clusters==8 | skin_realsub$seurat_clusters==9 | skin_realsub$seurat_clusters==7] <- 'TAC'\n",
    "skin_realsub$celltype_reanno[skin_realsub$seurat_clusters==2] <- 'TAC'\n",
    "skin_realsub$celltype_reanno[skin_realsub$seurat_clusters==4] <- 'IRS'\n",
    "skin_realsub$celltype_reanno[skin_realsub$seurat_clusters==1] <- 'Hair Shaft-Cuticle/Cortex'\n",
    "skin_realsub$celltype_reanno[skin_realsub$seurat_clusters==5] <- 'Medulla'\n",
    "skin_realsub$celltype_reanno[skin_realsub$seurat_clusters==6] <- 'IRS'"
   ]
  },
  {
   "cell_type": "code",
   "execution_count": null,
   "metadata": {},
   "outputs": [],
   "source": [
    "skin_realsub$lineage = 0\n",
    "skin_realsub$lineage[skin_realsub$seurat_clusters==4 | skin_realsub$seurat_clusters==6 | \n",
    "                             skin_realsub$seurat_clusters==7 | skin_realsub$seurat_clusters==8] <- 1\n",
    "skin_realsub$lineage[skin_realsub$seurat_clusters==2] <- 2\n",
    "skin_realsub$lineage[skin_realsub$seurat_clusters==3] <- 3\n",
    "skin_realsub$lineage[skin_realsub$seurat_clusters==9 | skin_realsub$seurat_clusters==1] <- 4\n",
    "skin_realsub$lineage[skin_realsub$seurat_clusters==5] <- 5"
   ]
  },
  {
   "cell_type": "code",
   "execution_count": null,
   "metadata": {},
   "outputs": [],
   "source": [
    "saveRDS(skin_realsub, \"skin_TAC-IRS-HS.rna.atac.seuratobj.rds\")"
   ]
  },
  {
   "cell_type": "markdown",
   "metadata": {},
   "source": [
    "# DE analysis"
   ]
  },
  {
   "cell_type": "code",
   "execution_count": null,
   "metadata": {},
   "outputs": [],
   "source": [
    "skin_realsub <- readRDS(file = 'skin_TAC-IRS-HS.rna.atac.seuratobj.rds')\n",
    "skin_realsub"
   ]
  },
  {
   "cell_type": "code",
   "execution_count": null,
   "metadata": {},
   "outputs": [],
   "source": [
    "DefaultAssay(skin_realsub) <- 'RNA'\n",
    "skin_realsub"
   ]
  },
  {
   "cell_type": "code",
   "execution_count": null,
   "metadata": {
    "scrolled": true
   },
   "outputs": [],
   "source": [
    "DefaultAssay(skin_realsub) <- 'RNA'\n",
    "markers <- FindAllMarkers(skin_realsub, only.pos = TRUE)\n",
    "markers <- markers[markers$p_val_adj<0.05,]"
   ]
  },
  {
   "cell_type": "code",
   "execution_count": null,
   "metadata": {},
   "outputs": [],
   "source": [
    "write.table(markers, 'markers_trajectory.txt', quote = F, row.names = F, sep = '\\t')"
   ]
  },
  {
   "cell_type": "markdown",
   "metadata": {},
   "source": [
    "# Building trajectory"
   ]
  },
  {
   "cell_type": "code",
   "execution_count": null,
   "metadata": {
    "scrolled": true
   },
   "outputs": [],
   "source": [
    "library(monocle3)\n",
    "library(SeuratWrappers)"
   ]
  },
  {
   "cell_type": "code",
   "execution_count": null,
   "metadata": {},
   "outputs": [],
   "source": [
    "recreate.partition <- c(rep(1, ncol(skin_realsub)))\n",
    "names(recreate.partition) <- colnames(skin_realsub)\n",
    "recreate.partition <- as.factor(recreate.partition)\n",
    "skin_realsub$monocle3_partitions <- recreate.partition\n",
    "\n",
    "skin_realsub$monocle3_clusters <- skin_realsub$celltype_reanno"
   ]
  },
  {
   "cell_type": "code",
   "execution_count": null,
   "metadata": {},
   "outputs": [],
   "source": [
    "DefaultAssay(skin_realsub) <- 'RNA'"
   ]
  },
  {
   "cell_type": "code",
   "execution_count": null,
   "metadata": {},
   "outputs": [],
   "source": [
    "### Construct the basic cds object\n",
    "cds_from_seurat <- as.cell_data_set(skin_realsub, reductions = 'wnn.umap', default.reduction = 'wnn.umap')\n",
    "reducedDimNames(cds_from_seurat)[1] <- \"UMAP\"\n",
    "names(cds_from_seurat@clusters) <- \"UMAP\"\n",
    "cds_from_seurat@clusters@listData[[\"UMAP\"]][[\"louvain_res\"]] <- \"NA\"\n",
    "cds_from_seurat"
   ]
  },
  {
   "cell_type": "code",
   "execution_count": null,
   "metadata": {},
   "outputs": [],
   "source": [
    "cds_from_seurat <- learn_graph(cds_from_seurat, use_partition = TRUE)"
   ]
  },
  {
   "cell_type": "code",
   "execution_count": null,
   "metadata": {},
   "outputs": [],
   "source": [
    "cds_from_seurat <- order_cells(cds_from_seurat, root_cells = 'R1.46.R2.30.R3.52.P1.55')"
   ]
  },
  {
   "cell_type": "code",
   "execution_count": null,
   "metadata": {},
   "outputs": [],
   "source": [
    "options(repr.plot.width=7.2, repr.plot.height=6)\n",
    "p <- plot_cells(\n",
    "  cds = cds_from_seurat,\n",
    "  color_cells_by = \"pseudotime\",\n",
    "  show_trajectory_graph = TRUE\n",
    ")\n",
    "ggsave(\"/nfs/public/xixi/scRegulate/figures/fig5c.pdf\", p, width = 7.2, height = 6)"
   ]
  },
  {
   "cell_type": "code",
   "execution_count": null,
   "metadata": {},
   "outputs": [],
   "source": [
    "options(repr.plot.width=6.3, repr.plot.height=6)\n",
    "plot_cells(\n",
    "  cds = cds_from_seurat,\n",
    "  color_cells_by = \"seurat_clusters\",\n",
    "  show_trajectory_graph = TRUE\n",
    ")"
   ]
  },
  {
   "cell_type": "code",
   "execution_count": null,
   "metadata": {},
   "outputs": [],
   "source": [
    "skin_realsub$monocle3_pseudotime <- cds_from_seurat@principal_graph_aux@listData$UMAP$pseudotime"
   ]
  },
  {
   "cell_type": "code",
   "execution_count": null,
   "metadata": {},
   "outputs": [],
   "source": [
    "saveRDS(skin_realsub, \"skin_TAC-IRS-HS.rna.atac.seuratobj.rds\")"
   ]
  },
  {
   "cell_type": "markdown",
   "metadata": {},
   "source": [
    "# Aggregate cells (according to clusters)"
   ]
  },
  {
   "cell_type": "code",
   "execution_count": null,
   "metadata": {},
   "outputs": [],
   "source": [
    "skin_realsub <- readRDS(file = 'skin_TAC-IRS-HS.rna.atac.seuratobj.rds')\n",
    "skin_realsub"
   ]
  },
  {
   "cell_type": "code",
   "execution_count": null,
   "metadata": {},
   "outputs": [],
   "source": [
    "library(DIRECTNET)"
   ]
  },
  {
   "cell_type": "code",
   "execution_count": null,
   "metadata": {},
   "outputs": [],
   "source": [
    "estimateSizeFactorsForDenseMatrix <- function(counts, locfunc = median, round_exprs=TRUE, method=\"mean-geometric-mean-total\"){\n",
    "\n",
    "  CM <- counts\n",
    "  if (round_exprs)\n",
    "    CM <- round(CM)\n",
    "  if (method == \"weighted-median\"){\n",
    "    log_medians <- apply(CM, 1, function(cell_expr) {\n",
    "      log(locfunc(cell_expr))\n",
    "    })\n",
    "\n",
    "    weights <- apply(CM, 1, function(cell_expr) {\n",
    "      num_pos <- sum(cell_expr > 0)\n",
    "      num_pos / length(cell_expr)\n",
    "    })\n",
    "\n",
    "    sfs <- apply( CM, 2, function(cnts) {\n",
    "      norm_cnts <-  weights * (log(cnts) -  log_medians)\n",
    "      norm_cnts <- norm_cnts[is.nan(norm_cnts) == FALSE]\n",
    "      norm_cnts <- norm_cnts[is.finite(norm_cnts)]\n",
    "      #print (head(norm_cnts))\n",
    "      exp( mean(norm_cnts) )\n",
    "    })\n",
    "  }else if (method == \"median-geometric-mean\"){\n",
    "    log_geo_means <- rowMeans(log(CM))\n",
    "\n",
    "    sfs <- apply( CM, 2, function(cnts) {\n",
    "      norm_cnts <- log(cnts) -  log_geo_means\n",
    "      norm_cnts <- norm_cnts[is.nan(norm_cnts) == FALSE]\n",
    "      norm_cnts <- norm_cnts[is.finite(norm_cnts)]\n",
    "      #print (head(norm_cnts))\n",
    "      exp( locfunc( norm_cnts ))\n",
    "    })\n",
    "  }else if(method == \"median\"){\n",
    "    row_median <- apply(CM, 1, median)\n",
    "    sfs <- apply(Matrix::t(Matrix::t(CM) - row_median), 2, median)\n",
    "  }else if(method == 'mode'){\n",
    "    sfs <- estimate_t(CM)\n",
    "  }else if(method == 'geometric-mean-total') {\n",
    "    cell_total <- apply(CM, 2, sum)\n",
    "    sfs <- log(cell_total) / mean(log(cell_total))\n",
    "  }else if(method == 'mean-geometric-mean-total') {\n",
    "    cell_total <- apply(CM, 2, sum)\n",
    "    sfs <- cell_total / exp(mean(log(cell_total)))\n",
    "  }\n",
    "\n",
    "  sfs[is.na(sfs)] <- 1\n",
    "  sfs\n",
    "}"
   ]
  },
  {
   "cell_type": "code",
   "execution_count": null,
   "metadata": {
    "scrolled": true
   },
   "outputs": [],
   "source": [
    "skin.aggregate <- Aggregate_data(skin_realsub, k_neigh = 30, size_factor_normalize = FALSE)"
   ]
  },
  {
   "cell_type": "code",
   "execution_count": null,
   "metadata": {
    "scrolled": true
   },
   "outputs": [],
   "source": [
    "rna <- skin.aggregate$rna[rowSums(skin.aggregate$rna)>0, ]\n",
    "rna"
   ]
  },
  {
   "cell_type": "code",
   "execution_count": null,
   "metadata": {
    "scrolled": true
   },
   "outputs": [],
   "source": [
    "rna_new <- t(t(log(skin.aggregate$rna+1))/estimateSizeFactorsForDenseMatrix(skin.aggregate$rna))\n",
    "rna_new <- rna_new[rowSums(rna_new)>0, ]\n",
    "rna_new"
   ]
  },
  {
   "cell_type": "code",
   "execution_count": null,
   "metadata": {},
   "outputs": [],
   "source": [
    "atac_new <- t(t(log(skin.aggregate$atac+1))/estimateSizeFactorsForDenseMatrix(skin.aggregate$atac))\n",
    "atac_new <- atac_new[rowSums(atac_new)>0, ]\n",
    "atac_new"
   ]
  },
  {
   "cell_type": "code",
   "execution_count": null,
   "metadata": {},
   "outputs": [],
   "source": [
    "write.csv(rna_new, '../SHAREseq/rna.aggregate_30cells.csv')\n",
    "write.csv(atac_new, '../SHAREseq/atac.aggregate_30cells.csv')"
   ]
  },
  {
   "cell_type": "code",
   "execution_count": null,
   "metadata": {},
   "outputs": [],
   "source": [
    "sample <- skin.aggregate$cell_sample\n",
    "sample <- cbind(sample, celltype = as.character(skin_realsub$lineage[skin.aggregate$cell_sample[, 30]]))\n",
    "sample"
   ]
  },
  {
   "cell_type": "code",
   "execution_count": null,
   "metadata": {},
   "outputs": [],
   "source": [
    "aggr_pseudotime <- c()\n",
    "for (i in 1:nrow(sample)){\n",
    "    aggr_pseudotime <- c(aggr_pseudotime, mean(skin_realsub$monocle3_pseudotime[as.numeric(sample[i, 1:(ncol(sample)-1)])]))\n",
    "}\n",
    "aggr_pseudotime"
   ]
  },
  {
   "cell_type": "code",
   "execution_count": null,
   "metadata": {},
   "outputs": [],
   "source": [
    "sample <- cbind(sample, aggr_pseudotime = aggr_pseudotime)\n",
    "sample"
   ]
  },
  {
   "cell_type": "code",
   "execution_count": null,
   "metadata": {},
   "outputs": [],
   "source": [
    "write.csv(sample, '../SHAREseq/skin.aggregate.cellid&cluster&pseudotime_30cells.csv')"
   ]
  }
 ],
 "metadata": {
  "kernelspec": {
   "display_name": "R",
   "language": "R",
   "name": "ir"
  },
  "language_info": {
   "codemirror_mode": "r",
   "file_extension": ".r",
   "mimetype": "text/x-r-source",
   "name": "R",
   "pygments_lexer": "r",
   "version": "4.2.2"
  }
 },
 "nbformat": 4,
 "nbformat_minor": 2
}
